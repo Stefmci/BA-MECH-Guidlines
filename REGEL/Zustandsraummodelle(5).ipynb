{
 "cells": [
  {
   "cell_type": "markdown",
   "id": "a678669f",
   "metadata": {},
   "source": [
    "# 🧩 Zustandsraummodell $Beispiel 5$\n"
   ]
  },
  {
   "cell_type": "markdown",
   "id": "f50235b7",
   "metadata": {},
   "source": [
    "## 🌡️ System richtig aufstellen"
   ]
  },
  {
   "cell_type": "markdown",
   "id": "0a21780f",
   "metadata": {},
   "source": [
    "### 1️⃣ Zustände erkennnen und benennen\n",
    "\n",
    "Im Zustandvektor $\\vec{x}$ werden alle Zustände des Systems erfasst, die für die Beschreibung des Systems notwendig sind. Aber drüfen nur Ableitungen 1. Ordnung enthalten. der Vektor $\\dot{\\vec{x}}$ enthält die Ableitungen (also max. zweiter Ordnung$.\n",
    "\n",
    "Ein Zustandsraum-Modell hat die Form\n",
    "\n",
    "$$\n",
    "\\dot{x}(t) = A x(t) + B u(t)\n",
    "$$\n",
    "\n",
    "$$\n",
    "y(t) = C x(t) + D u(t)\n",
    "$$\n",
    "\n",
    "\n",
    "Die **Zustände $ x_i(t)$** sind immer **die minimalen Variablen**, die du kennen musst, um den Systemzustand zu einem Zeitpunkt vollständig zu beschreiben – also, damit du aus ihnen und dem Eingang $u(t)$ alle zukünftigen Größen berechnen kannst.\n"
   ]
  },
  {
   "cell_type": "markdown",
   "id": "cfa80dee",
   "metadata": {},
   "source": [
    "\n",
    "### 2️⃣ Zustände = Größen, die zeitlich abgeleitet werden\n",
    "\n",
    "Immer dann, wenn in einer Differentialgleichung eine Größe **zeitlich abgeleitet** vorkommt, gehört sie in den Zustandsvektor.\n",
    "\n",
    "Beispiele:\n",
    "\n",
    "* Mechanisch: $x$, $\\dot{x}$\n",
    "  → Zustände: $x_1 = x$, $x_2 = \\dot{x}$\n",
    "* Elektrisch: Kondensatorspannung $v_C$, Spulenstrom $i_L$\n",
    "  → Zustände: $x_1 = v_C$, $x_2 = i_L$\n",
    "* Drehbewegung: Winkel $\\varphi$, Winkelgeschwindigkeit $\\dot{\\varphi}$\n",
    "  → Zustände: $x_1 = \\varphi$, $x_2 = \\dot{\\varphi}$"
   ]
  },
  {
   "cell_type": "markdown",
   "id": "152b5c1f",
   "metadata": {},
   "source": [
    "\n",
    "### 3️⃣ \n",
    "\n",
    "\n",
    "1. **Schreib die Differentialgleichung$en$** des Systems hin $z. B. über Kirchhoff oder Newton$.\n",
    "2. **Identifiziere alle abgeleiteten Größen** $die mit Punkten oder Doppelpunkten$.\n",
    "3. **Definiere die Zustände** als diese Größen selbst $nicht deren Ableitungen$.\n",
    "4. **Schreibe die Gleichungen in der Form**\n",
    "   $\\dot{x} = A x + B u$,\n",
    "   $y = C x + D u$.\n"
   ]
  },
  {
   "cell_type": "markdown",
   "id": "96bf8340",
   "metadata": {},
   "source": [
    "\n",
    "### 💡 Hinweis\n",
    "\n",
    "| Systemtyp               | Typische Zustände                                       |\n",
    "| ----------------------- | ------------------------------------------------------- |\n",
    "| RLC-Schaltung           | $i_L, v_C$                                              |\n",
    "| Mechanische Translation | $x, \\dot{x}$                                            |\n",
    "| Mechanische Rotation    | $\\varphi, \\dot{\\varphi}$                                |\n",
    "| Mehrmassen-System       | Alle Positionen und Geschwindigkeiten der Massen        |\n",
    "| Nichtlineare Systeme    | Alle dynamischen Variablen aus den Bewegungsgleichungen |\n"
   ]
  },
  {
   "cell_type": "markdown",
   "id": "61f3fa00",
   "metadata": {},
   "source": [
    "\n",
    "### 🎯 Beispiel\n",
    "\n",
    "\n",
    "\n",
    "Ein Feder-Masse-Dämpfer-System:\n",
    "\n",
    "$$\n",
    "m \\ddot{z} + d \\dot{z} + k z = F\n",
    "$$\n",
    "\n",
    "→ Zustände wählen:\n",
    "\n",
    "$$\n",
    "x_1 = z, \\quad x_2 = \\dot{z}\n",
    "$$\n",
    "\n",
    "→ dann gilt:\n",
    "\n",
    "$$\n",
    "\\dot{x}_1 = x_2\n",
    "$$\n",
    "\n",
    "$$\n",
    "\\dot{x}_2 = -\\frac{k}{m}x_1 - \\frac{d}{m}x_2 + \\frac{1}{m}F\n",
    "$$\n",
    "\n",
    "→ also\n",
    "\n",
    "$$\n",
    "\\dot{x} =\n",
    "\\begin{pmatrix}\n",
    "0 & 1 \\\n",
    "-\\frac{k}{m} & -\\frac{d}{m}\n",
    "\\end{pmatrix}\n",
    "x +\n",
    "\\begin{pmatrix}\n",
    "0 \\\n",
    "\\frac{1}{m}\n",
    "\\end{pmatrix}u\n",
    "$$"
   ]
  }
 ],
 "metadata": {
  "language_info": {
   "name": "python"
  }
 },
 "nbformat": 4,
 "nbformat_minor": 5
}
