{
 "cells": [
  {
   "cell_type": "markdown",
   "id": "5e30f341",
   "metadata": {},
   "source": [
    "# 🧩 Systeme und Stabilität (Beispiele 4)\n",
    "\n",
    "\n",
    "- EZS: Eingangszustandstabil dann immer BIBO Stabil\n",
    "- BIBO Stabil muss nicht EZS Stabil sein"
   ]
  },
  {
   "cell_type": "markdown",
   "id": "294dfb16",
   "metadata": {},
   "source": [
    "## 🌡️ Eingangszustandstabil"
   ]
  },
  {
   "cell_type": "markdown",
   "id": "e5b49259",
   "metadata": {},
   "source": [
    "Zum Beispiel:\n",
    "\n",
    "$$ \\dot{x} =\n",
    "\\begin{bmatrix}\n",
    "0 & 1 \\\\\n",
    "6 & -5\n",
    "\\end{bmatrix}\n",
    "\\cdot x +\n",
    "\\begin{bmatrix}\n",
    "0 \\\\\n",
    "2\n",
    "\\end{bmatrix}\\cdot u\n",
    "$$\n"
   ]
  },
  {
   "cell_type": "markdown",
   "id": "b596c5f2",
   "metadata": {},
   "source": [
    "### 1️⃣ $det(s \\cdot I - A) = 0$\n",
    "\n",
    "$$ det(s \\cdot I - A) =\n",
    "\\begin{bmatrix}\n",
    "s & 0 \\\\\n",
    "0 & s\n",
    "\\end{bmatrix} - \n",
    "\\begin{bmatrix}\n",
    "0 & 1 \\\\\n",
    "6 & -5\n",
    "\\end{bmatrix} = \n",
    "\\begin{bmatrix}\n",
    "s & -1 \\\\\n",
    "-6 & s+5\n",
    "\\end{bmatrix}\n",
    "= s^2 + 5s - 6\n",
    "$$\n",
    "\n",
    "- Hurwitz-Kriterium: $s^2$+$5$-$6$ (negativ) $\\Rightarrow$ instabil\n",
    "\n",
    "### 2️⃣ Eigenwerte berechnen\n",
    "\n",
    "$$ s^2 + 5s - 6 = 0 \\Rightarrow s_{1,2} = \\frac{-5 \\pm \\sqrt{25 + 24}}{2} = \\frac{-5 \\pm 7}{2} $$\n",
    "\n",
    "### 3️⃣ Übertragungsfunktion mit Laplace\n",
    "\n",
    "$$ G(s) = c^t \\cdot (s \\cdot I - A)^{-1} \\cdot B + D $$\n",
    "\n",
    "- für inverses einer 2x2 Matrix:\n",
    "$$\n",
    "\\begin{bmatrix}\n",
    "a & b \\\\\n",
    "c & d\n",
    "\\end{bmatrix}^{-1} = \n",
    "\\begin{bmatrix}\n",
    "d & -b \\\\\n",
    "-c & a\n",
    "\\end{bmatrix}\\cdot \\frac{1}{ad-bc} \n",
    "$$\n",
    "\n",
    " ### 4️⃣ Nochmal Polstellen berechnen un checken ob BIBO stabil"
   ]
  },
  {
   "cell_type": "markdown",
   "id": "67c95843",
   "metadata": {},
   "source": [
    "<hr style=\"border: none; border-top: 5px solid #3498db;\">\n"
   ]
  },
  {
   "cell_type": "markdown",
   "id": "806f03d9",
   "metadata": {},
   "source": [
    "# 🧩 Regelabweichung"
   ]
  },
  {
   "cell_type": "markdown",
   "id": "d120dd39",
   "metadata": {},
   "source": [
    "## 🌡️ Geschlossenen Kreis mit Laplace stabil zeigen mit Eingangswerten\n",
    "\n",
    "### 🎯 Beispiel aus einer Aufgabenstellung:\n",
    "\n",
    "ein Proportionalregler soll das gegebene System stabilisieren. Die Proportionalverstörlung soll $K_p = 6$ betragen und liefert daher für das Eingangssignal $u(t) = 6 (w(t) - y(t))$. Berechne das autonome System für die Referenzgröße $w(t) = 0$. Zeige, dass das geregelte System stabil ist.\n",
    "\n",
    "\n"
   ]
  },
  {
   "cell_type": "markdown",
   "id": "6e920b10",
   "metadata": {},
   "source": [
    "<hr style=\"border: none; border-top: 1px solid #f1c40f;\">\n"
   ]
  },
  {
   "cell_type": "markdown",
   "id": "0ad4374d",
   "metadata": {},
   "source": [
    "Spalten mit Zeilen multiplizieren:\n",
    "\n",
    "$$\n",
    "\\begin{pmatrix} b_1 \\\\ b_2 \\end{pmatrix}\n",
    "\n",
    "\\begin{pmatrix} a_1 & a_2 \\end{pmatrix}\n",
    "$$\n",
    "dann bekommst du **eine 2×2-Matrix**:\n",
    "$$\n",
    "\\begin{pmatrix}\n",
    "b_1 a_1 & b_1 a_2 \\\\\n",
    "b_2 a_1 & b_2 a_2\n",
    "\\end{pmatrix}\n",
    "$$\n",
    "\n",
    "b_2 a_1 & b_2 a_2\n",
    "\\end{pmatrix}\n",
    "$$\n"
   ]
  },
  {
   "cell_type": "markdown",
   "id": "51354874",
   "metadata": {},
   "source": [
    "<hr style=\"border: none; border-top: 1px solid #f1c40f;\">\n"
   ]
  },
  {
   "cell_type": "markdown",
   "id": "884ebb21",
   "metadata": {},
   "source": [
    "### 1️⃣ Einsetzen der Matrizen\n",
    "\n",
    "$$K_p = 6\\qquad \\qquad u(t) = 6 \\cdot (w(t) - y(t))$$\n",
    "\n",
    "\n",
    "\n",
    "\n",
    "$$u(t) = - 6 y(t)$$\n",
    "\n",
    "#### Einsetzen:\n",
    "\n",
    "$$ \\dot{x} =\n",
    "\\begin{bmatrix}\n",
    "0& 1 \\\\\n",
    "6 & -5\n",
    "\\end{bmatrix}\\cdot\n",
    "x(t) +\n",
    "\\begin{bmatrix}\n",
    "0 \\\\\n",
    "2\n",
    "\\end{bmatrix}\n",
    "\\cdot u(t)\n",
    "$$\n",
    "\n",
    "#### $u(t)$ Einsetzen:\n",
    "\n",
    "\n",
    "$$ \\dot{x} =\n",
    "\\begin{bmatrix}\n",
    "0& 1 \\\\\n",
    "6 & -5\n",
    "\\end{bmatrix}\\cdot\n",
    "x(t) +\n",
    "\\begin{bmatrix}\n",
    "0 \\\\\n",
    "2\n",
    "\\end{bmatrix}\n",
    "\\cdot (-6 y(t))\n",
    "$$\n",
    "\n",
    "#### $u(t)$ Zahl in Vektor umwandeln:\n",
    "\n",
    "\n",
    "$$ \\dot{x} =\n",
    "\\begin{bmatrix}\n",
    "0& 1 \\\\\n",
    "6 & -5\n",
    "\\end{bmatrix}\\cdot\n",
    "x(t) +\n",
    "\\begin{bmatrix}\n",
    "0 \\\\\n",
    "-12\n",
    "\\end{bmatrix}\n",
    "\\cdot y(t)\n",
    "$$\n",
    "\n",
    "#### $y(t)$ einsetzen:\n",
    "\n",
    "\n",
    "$$ \\dot{x} =\n",
    "\\begin{bmatrix}\n",
    "0& 1 \\\\\n",
    "6 & -5\n",
    "\\end{bmatrix}\\cdot\n",
    "x(t) +\n",
    "\\begin{bmatrix}\n",
    "0 \\\\\n",
    "-12\n",
    "\\end{bmatrix}\n",
    "\\cdot \n",
    "\\begin{bmatrix}1 & 0\n",
    "\\end{bmatrix} \\cdot x(t)\n",
    "$$\n",
    "\n",
    "#### Vektoren multiplizieren:\n",
    "\n",
    "\n",
    "$$ \\dot{x} =\n",
    "\\begin{bmatrix}\n",
    "0& 1 \\\\\n",
    "6 & -5\n",
    "\\end{bmatrix}\\cdot\n",
    "x(t) +\n",
    "\\begin{bmatrix}\n",
    "0 & 0 \\\\\n",
    "-12 & 0\n",
    "\\end{bmatrix}\n",
    "\\cdot x(t)\n",
    "$$\n",
    "\n",
    "#### $x(t)$ herausheben und matrizen addieren:\n",
    "$$ \\dot{x} =\n",
    "\\left(\n",
    "\\begin{bmatrix}\n",
    "0& 1 \\\\\n",
    "6 & -5\n",
    "\\end{bmatrix} +\n",
    "\\begin{bmatrix}\n",
    "0 & 0 \\\\\n",
    "-12 & 0\n",
    "\\end{bmatrix}\n",
    "\\right) \\cdot x(t)\n",
    "$$\n",
    "\n",
    "$$ \\dot{x} =\n",
    "\\begin{bmatrix}\n",
    "0& 1 \\\\\n",
    "-6 & -5\n",
    "\\end{bmatrix} \\cdot x(t) \n",
    "$$\n",
    "\n",
    "\n",
    "### 2️⃣ Stabilität überprüfen mit $det(s \\cdot I - A) = 0$"
   ]
  },
  {
   "cell_type": "markdown",
   "id": "c78900e0",
   "metadata": {},
   "source": [
    "<hr style=\"border: none; border-top: 5px solid #3498db;\">\n"
   ]
  },
  {
   "cell_type": "markdown",
   "id": "7d885d57",
   "metadata": {},
   "source": [
    "# 🧩 Lösung berechnen mit Anfangswert (ist das gleiche vorgehen wie eine DGL Lösen)\n",
    "\n",
    "Beipiel $x_0 = \\begin{bmatrix} 1 & 0 \\end{bmatrix} \\cdot x(t)$\n",
    "\n",
    "### 1️⃣ in $y(t)$ einsetzen"
   ]
  },
  {
   "cell_type": "markdown",
   "id": "413359f9",
   "metadata": {},
   "source": [
    "$$ y(t) = \\begin{bmatrix}1 & 0\n",
    "\\end{bmatrix} \\cdot x(t) $$\n",
    "\n",
    "### 2️⃣ Laplace\n",
    "$$ s \\cdot X(s) - x_0 = A \\cdot X(s)$$\n",
    "\n",
    "### 3️⃣ nach $X(s)$ auflösen\n",
    "$$ X(s) = (s \\cdot I - A)^{-1} \\cdot x_0 $$\n",
    "\n",
    "### 4️⃣ Ausrechnen von $X(s)$ mittels einsetzen der Anfangsbedinungen\n",
    "\n",
    "### 5️⃣ In $Y(s)$ einsetzen\n",
    "\n",
    "$$ Y(s) = \\begin{bmatrix}1 & 0\n",
    "\\end{bmatrix} \\cdot X(s) $$\n",
    "\n",
    "### 6️⃣ Rücktransformation mit Laplace\n",
    "$$ y(t) = \\mathcal{L}^{-1} \\{ Y(s) \\} $$\n"
   ]
  },
  {
   "cell_type": "markdown",
   "id": "cf32a024",
   "metadata": {},
   "source": [
    "<hr style=\"border: none; border-top: 5px solid #3498db;\">\n"
   ]
  },
  {
   "cell_type": "markdown",
   "id": "c2a1fbed",
   "metadata": {},
   "source": [
    "# 🧩Mini-Beispiele Partialbruchzerlegung\n",
    "\n",
    "**(a) Einfache Linearfaktoren (Cover-Up)**\n",
    "$$\\frac{2s+5}{s(s+3)}=\\frac{A}{s}+\\frac{B}{s+3}.$$\n",
    "Cover-Up:\n",
    "$$A=\\left[(s)\\frac{2s+5}{s(s+3)}\\right]*{s=0}=\\frac{5}{3},\\qquad\n",
    "B=\\left[(s+3)\\frac{2s+5}{s(s+3)}\\right]*{s=-3}=\\frac{1}{3}.$$\n",
    "Also\n",
    "$$\\frac{2s+5}{s(s+3)}=\\frac{5/3}{s}+\\frac{1/3}{s+3}.$$\n",
    "\n",
    "**(b) Mehrfachpol**\n",
    "$$\\frac{5s+3}{s(s+1)^2}=\\frac{A}{s}+\\frac{B}{s+1}+\\frac{C}{(s+1)^2}.$$\n",
    "Zähler gleichsetzen → (A=3,;B=-3,;C=2) (kurzer Koeffizientenvergleich).\n",
    "Ergebnis:\n",
    "$$\\frac{5s+3}{s(s+1)^2}=\\frac{3}{s}-\\frac{3}{s+1}+\\frac{2}{(s+1)^2}.$$\n",
    "\n",
    "**(c) Irreduzibles Quadrat**\n",
    "$$\\frac{s+7}{s^2+4s+5}=\\frac{As+B}{s^2+4s+5}.$$\n",
    "Zählervergleich: (A=1,;B=3), also\n",
    "$$\\frac{s+7}{s^2+4s+5}=\\frac{s+3}{s^2+4s+5}.$$"
   ]
  },
  {
   "cell_type": "markdown",
   "id": "87ef0bda",
   "metadata": {},
   "source": [
    "<hr style=\"border: none; border-top: 5px solid #3498db;\">\n"
   ]
  }
 ],
 "metadata": {
  "language_info": {
   "name": "python"
  }
 },
 "nbformat": 4,
 "nbformat_minor": 5
}
