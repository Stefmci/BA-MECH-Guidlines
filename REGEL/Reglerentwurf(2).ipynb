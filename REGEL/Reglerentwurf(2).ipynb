{
 "cells": [
  {
   "cell_type": "markdown",
   "id": "9baddf5b",
   "metadata": {},
   "source": [
    "# 🧩 Regelkreis (Beispiel 2)\n"
   ]
  },
  {
   "cell_type": "markdown",
   "id": "e5067488",
   "metadata": {},
   "source": [
    "## 🌡️ Geschlossener Regelkreis"
   ]
  },
  {
   "cell_type": "markdown",
   "id": "7f161398",
   "metadata": {},
   "source": [
    "### 1️⃣ Übertragungsfunktion:\n",
    "\n",
    "$$G(s) = \\frac{0,5}{6s^3 + 3s^2 + 9s}$$\n",
    "\n",
    "### 2️⃣ Offener Regelkreis:\n",
    "\n",
    "$$G_0(s) = G(s) \\cdot K_p$$\n",
    "\n",
    "### 3️⃣ Geschlossener Regelkreis:\n",
    "\n",
    "$$T = \\frac{G_0(s)}{1 + G_0(s)}$$\n",
    "\n",
    "\n",
    "- Hilfestellung $$T = \\frac{\\frac{x}{y}}{1 + \\frac{x}{y}} = \\frac{x}{y + x}$$\n"
   ]
  },
  {
   "cell_type": "markdown",
   "id": "cc90019e",
   "metadata": {},
   "source": [
    "<hr style=\"border: none; border-top: 1px solid #f1c40f;\">\n"
   ]
  },
  {
   "cell_type": "markdown",
   "id": "12828e9d",
   "metadata": {},
   "source": [
    "## 🌡️ Stabilität"
   ]
  },
  {
   "cell_type": "markdown",
   "id": "46fe0b04",
   "metadata": {},
   "source": [
    "\n",
    " ### 4️⃣ Bestimmung der Stabilität mit Polynom Grad 3:\n",
    "\n",
    "- Charakteristischen Polynom\n",
    "  - kein vorzeichenwechsel → stabil\n",
    "  - vorzeichenwechsel → instabil\n",
    "  - vorzeichenwechsel + 0 → grenzstabil\n",
    "  - alle Koeffizienten vorhanden → stabil\n",
    "- Ein System ist stabil, wenn alle Wurzeln des charakteristischen Polynoms in der linken Halbebene liegen.\n"
   ]
  },
  {
   "cell_type": "markdown",
   "id": "f76d28fe",
   "metadata": {},
   "source": [
    "### 5️⃣ Hurwitz-Rauther-Kriterium\n",
    "- Erstelle die Hurwitz-Matrix.\n",
    "- Bestimme die Hauptminoren."
   ]
  },
  {
   "cell_type": "markdown",
   "id": "2a530637",
   "metadata": {},
   "source": [
    "Gerade und ungerade Koeffizienten in Spalten schreiben. Hochzahlen geben vor ob gerade oder ungerade Spalte."
   ]
  },
  {
   "cell_type": "markdown",
   "id": "69a5a76c",
   "metadata": {},
   "source": [
    "### 6️⃣ Bestimmung der Stabilität mit Polynom Grad 2:"
   ]
  },
  {
   "cell_type": "markdown",
   "id": "8656523e",
   "metadata": {},
   "source": [
    "- ist dann stabil, wenn alle Koeffizienten des charakteristischen Polynoms positiv sind."
   ]
  },
  {
   "cell_type": "markdown",
   "id": "63841c5e",
   "metadata": {},
   "source": [
    "<hr style=\"border: none; border-top: 1px solid #f1c40f;\">\n"
   ]
  },
  {
   "cell_type": "markdown",
   "id": "55e11cfc",
   "metadata": {},
   "source": [
    "## 🎯 Beispiel"
   ]
  },
  {
   "cell_type": "markdown",
   "id": "e3b3d7cb",
   "metadata": {},
   "source": [
    "Nein, **nicht stabil.**\n",
    "\n",
    "Hier ist warum:\n",
    "\n",
    "$$\n",
    "G(s) = \\frac{1}{s^2 + 3s}\n",
    "$$\n",
    "\n",
    "Nenner = $( s(s + 3) )$\n",
    "\n",
    "→ **Pole bei:**\n",
    "\n",
    "* ( s_1 = 0 )\n",
    "* ( s_2 = -3 )\n",
    "\n",
    "\n",
    "\n",
    "### 🔍 **Bewertung:**\n",
    "\n",
    "* Ein Pol **bei 0** → **Integratorelement**\n",
    "* Ein Pol **links von der imaginären Achse** (bei -3) → stabiler Anteil\n",
    "\n",
    "Aber: **Durch den Pol bei 0 ist das System grenzstabil**, also\n",
    "👉 **nicht asymptotisch stabil**, weil das Ausgangssignal bei einem Sprung z. B. nicht zur Ruhe kommt (es driftet).\n",
    "\n",
    "\n",
    "\n",
    "### ✅ **Kurz gesagt:**\n",
    "\n",
    "* **Pol links von 0 → stabiler Anteil**\n",
    "* **Pol bei 0 → grenzstabil (nicht asymptotisch stabil)**\n",
    "* **Pol rechts von 0 → instabil**\n",
    "\n",
    "Also:\n",
    "$$\n",
    "\\boxed{G(s)=\\frac{1}{s^2+3s} \\text{ ist grenzstabil, aber nicht stabil.}}\n",
    "$$\n"
   ]
  },
  {
   "cell_type": "markdown",
   "id": "a798e676",
   "metadata": {},
   "source": [
    "<hr style=\"border: none; border-top: 5px solid #3498db;\">\n"
   ]
  },
  {
   "cell_type": "markdown",
   "id": "e0ebde06",
   "metadata": {},
   "source": [
    "# 🧩 Regelabweichung"
   ]
  },
  {
   "cell_type": "markdown",
   "id": "9f9a523c",
   "metadata": {},
   "source": [
    "Abhängig vom Typ der Führungsgröße $w(t)$ und der Anzahl $\\lambda$ der Polstellen bei $0$\n",
    "(Integratoren) der Übertragungsfunktion des offenen Kreises $G_0(s)$\n",
    "erhalten wir für die bleibende Regelabweichung $e_\\infty$:\n",
    "\n",
    "| $w(t)$ | $\\lambda = 0$ | $\\lambda = 1$ | $\\lambda = 2$ |\n",
    "|:---:|:---:|:---:|:---:|\n",
    "| $\\sigma(t)$ | $\\dfrac{1}{1 + k_s}$ | $0$ | $0$ |\n",
    "| $t$ | $\\infty$ | $\\dfrac{1}{k_s}$ | $0$ |\n",
    "| $t^2$ | $\\infty$ | $\\infty$ | $\\dfrac{1}{k_s}$ |\n"
   ]
  },
  {
   "cell_type": "markdown",
   "id": "e36f1955",
   "metadata": {},
   "source": [
    "<hr style=\"border: none; border-top: 1px solid #f1c40f;\">\n"
   ]
  },
  {
   "cell_type": "markdown",
   "id": "2ffbc385",
   "metadata": {},
   "source": [
    "### 📖 **So liest du die Tabelle richtig**\n",
    "\n",
    "Die Tabelle zeigt dir, **wie groß die bleibende Regelabweichung ( e_\\infty )** ist –\n",
    "abhängig davon, **was für ein Eingangssignal ( w(t) )** du hast\n",
    "und **wie viele Integratoren (( \\lambda ))** dein System im offenen Kreis ( G_0(s) ) besitzt.\n",
    "\n",
    "\n",
    "### 🔹 **Spalten – Anzahl der Integratoren ( \\lambda ):**\n",
    "\n",
    "* $ \\lambda = 0 $: Kein Integrator → **Typ-0-System**\n",
    "* $ \\lambda = 1 $: Ein Integrator → **Typ-1-System**\n",
    "* $ \\lambda = 2 $: Zwei Integratoren → **Typ-2-System**\n",
    "\n"
   ]
  },
  {
   "cell_type": "markdown",
   "id": "68cb8edf",
   "metadata": {},
   "source": [
    "<hr style=\"border: none; border-top: 1px solid #f1c40f;\">\n"
   ]
  },
  {
   "cell_type": "markdown",
   "id": "960bffba",
   "metadata": {},
   "source": [
    "\n",
    "### 🔹 **Zeilen – Art der Führungsgröße ( w(t) ):**\n",
    "\n",
    "Das beschreibt, **welches Eingangssignal** das System bekommt:\n",
    "\n",
    "| Zeile         | Bedeutung                            | Laplace-Form      | Beispiel                        |\n",
    "| ------------- | ------------------------------------ | ----------------- | ------------------------------- |\n",
    "| $ \\sigma(t) $ | **Sprung (konstanter Sollwert)**     |  $\\frac{1}{s}$    | Sollwertsprung von 0 auf 1      |\n",
    "| $ t $         | **Rampe (gleichmäßige Steigung)**    | ( $\\frac{1}{s^2}$ ) | z. B. konstante Geschwindigkeit |\n",
    "| $ t^2 $       | **Parabel (beschleunigte Bewegung)** |  $\\frac{1}{s^3}$  | z. B. konstante Beschleunigung  |\n",
    "\n",
    "\n",
    "### 🔹 **Wie du sie kombinierst:**\n",
    "\n",
    "Du gehst also **Zeile für Eingang**, **Spalte für Systemtyp**:\n",
    "\n",
    "Beispiel:\n",
    "\n",
    "* Zeile **( t )** (Rampe)\n",
    "* Spalte **( \\lambda = 1 )** (ein Integrator)\n",
    "  →  $e_\\infty = \\frac{1}{k_s}$  → **endlicher Fehler bei Rampe**\n"
   ]
  },
  {
   "cell_type": "markdown",
   "id": "ee643738",
   "metadata": {},
   "source": [
    "<hr style=\"border: none; border-top: 1px solid #f1c40f;\">\n"
   ]
  },
  {
   "cell_type": "markdown",
   "id": "9493ec4f",
   "metadata": {},
   "source": [
    "### 🧪 **Beispiel: mehrere Integratoren (Typ-2 und Typ-3)**\n",
    "\n",
    "#### 🔹 **Beispiel A – Typ-2 (zwei Integratoren)**\n",
    "\n",
    "Offener Kreis:\n",
    "$L(s)=\\dfrac{k}{s^2(s+1)}$  → zwei Integratoren $(\\lambda=2)$.\n",
    "\n",
    "* **Konstanten**\n",
    "  $K_p=\\lim_{s\\to0}L(s)=\\infty,\\quad K_v=\\lim_{s\\to0}sL(s)=\\infty,\\quad K_a=\\lim_{s\\to0}s^2L(s)=\\dfrac{k}{1}=k$\n",
    "\n",
    "* **Bleibende Fehler (Einheitsrückführung)**\n",
    "  Sprung $1/s$: $e_\\infty=0$\n",
    "  Rampe $1/s^2$: $e_\\infty=0$\n",
    "  Parabel $1/s^3$: $e_\\infty=\\dfrac{1}{K_a}=\\dfrac{1}{k}$\n",
    "\n",
    "*Zahlbeispiel:* $k=10 \\Rightarrow e_\\infty$ (Parabel) $=0{,}1$.\n",
    "\n",
    "#### 🔹 **Beispiel B – Typ-3 (drei Integratoren)**\n",
    "\n",
    "Offener Kreis:\n",
    "$L(s)=\\dfrac{k}{s^3(s+2)}$  → drei Integratoren $(\\lambda=3)$.\n",
    "\n",
    "* **Konstanten**\n",
    "  $K_p=\\infty,\\quad K_v=\\infty,\\quad K_a=\\infty,\\quad K_j=\\lim_{s\\to0}s^3L(s)=\\dfrac{k}{2}$\n",
    "\n",
    "* **Bleibende Fehler (Einheitsrückführung)**\n",
    "  Sprung $1/s$: $e_\\infty=0$\n",
    "  Rampe $1/s^2$: $e_\\infty=0$\n",
    "  Parabel $1/s^3$: $e_\\infty=0$\n",
    "  **Kubisch** $1/s^4$: $e_\\infty=\\dfrac{1}{K_j}=\\dfrac{2}{k}$\n",
    "\n",
    "*Zahlbeispiel:* $k=10 \\Rightarrow e_\\infty$ (kubisch) $=0{,}2$.\n",
    "\n",
    "### 🔧 **So gehst du immer vor**\n",
    "\n",
    "1. **Integratoren zählen** in $L(s)=K(s)G(s)$ → $\\lambda$.\n",
    "2. **Passende Konstante** bestimmen:\n",
    "   $K_p=\\lim L,; K_v=\\lim sL,; K_a=\\lim s^2L,; K_j=\\lim s^3L,\\dots$\n",
    "3. **Fehler auswählen:**\n",
    "   Sprung $\\to \\dfrac{1}{1+K_p}$, Rampe $\\to \\dfrac{1}{K_v}$, Parabel $\\to \\dfrac{1}{K_a}$, kubisch $\\to \\dfrac{1}{K_j}$, …\n",
    "4. **Wichtig:** Aussage gilt nur, wenn der geschlossene Kreis stabil ist.\n",
    "\n",
    "### ✅ Zusammenfassung:\n",
    "\n",
    "* Typ-2: $e_\\infty=$ 0 (Sprung, Rampe), endlich bei Parabel $=1/k$.\n",
    "* Typ-3: $e_\\infty=$ 0 (bis Parabel), endlich bei kubischem Eingang $=2/k$.\n",
    "* Vorgehen: $\\lambda$ zählen → passende $K_\\ast$ via Grenzwert berechnen → $e_\\infty$ mit Tabelle/Formel.\n"
   ]
  }
 ],
 "metadata": {
  "language_info": {
   "name": "python"
  }
 },
 "nbformat": 4,
 "nbformat_minor": 5
}
