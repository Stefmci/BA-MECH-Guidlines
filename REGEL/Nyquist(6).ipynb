{
 "cells": [
  {
   "cell_type": "markdown",
   "id": "a678669f",
   "metadata": {},
   "source": [
    "# 🧩 Nyquist (Beispiel 6)\n"
   ]
  },
  {
   "cell_type": "markdown",
   "id": "f50235b7",
   "metadata": {},
   "source": [
    "## 🌡️ Nquist kriterium (Verlgeich Ablesen und berechnen)"
   ]
  },
  {
   "cell_type": "markdown",
   "id": "0a21780f",
   "metadata": {},
   "source": [
    "### 1️⃣ Ablesen der Kurve, wie groß ist $\\pi$?"
   ]
  },
  {
   "cell_type": "markdown",
   "id": "cfa80dee",
   "metadata": {},
   "source": [
    "\n",
    "### 2️⃣ Polstellen berechnen\n",
    "\n",
    "- pq-Formel oder Hurwitz-Rauth Kriterium (bei Grad 3+)\n",
    "  - müssen nicht 100% zu ende gerechent werden, nur abschätzen wo die Polstellen liegen\n",
    "    - Positiv oder Negativ Realteil\n",
    "- wenn integrator, dann immer eine Polstelle bei 0 (bzw. Nullstelle bei 0)\n",
    "  - $N_0 = 1$"
   ]
  },
  {
   "cell_type": "markdown",
   "id": "152b5c1f",
   "metadata": {},
   "source": [
    "\n",
    "### 3️⃣ $arg(G_0(s)+1) = 2 \\cdot \\pi \\cdot N_+ + \\pi \\cdot N_0$\n",
    "\n",
    "- muss mit dem Abgelesenen übereinstimmen, sonst instabil"
   ]
  },
  {
   "cell_type": "markdown",
   "id": "9fb62036",
   "metadata": {},
   "source": [
    "### 4️⃣ Welchen \"K_p\" damit stabil\n",
    "\n",
    "- $K_p = < -1$\n",
    "- Schnittpunkt darf nicht in betrachtungspunkt 1 liegen!\n",
    "- Negatives $K_p$ = Spiegeln und drehrichtung ändern, und skalieren"
   ]
  },
  {
   "cell_type": "markdown",
   "id": "846a9cec",
   "metadata": {},
   "source": [
    "### 5️⃣ Wirklich stabil?\n",
    "\n",
    "- $T = \\frac{G_0(s)}{1+G_0(s)}$ aufstellen\n",
    "- Polstellen berechnen\n",
    "- Realteil muss Negativ sein"
   ]
  }
 ],
 "metadata": {
  "language_info": {
   "name": "python"
  }
 },
 "nbformat": 4,
 "nbformat_minor": 5
}
