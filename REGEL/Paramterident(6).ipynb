{
 "cells": [
  {
   "cell_type": "markdown",
   "id": "4c6b66ef",
   "metadata": {},
   "source": [
    "# 🧩 Parameteridentifikation (Beispiel 6)\n"
   ]
  },
  {
   "cell_type": "markdown",
   "id": "1ee0d25f",
   "metadata": {},
   "source": [
    "<hr style=\"border: none; border-top: 5px solid #3498db;\">\n"
   ]
  },
  {
   "cell_type": "markdown",
   "id": "1257fa90",
   "metadata": {},
   "source": [
    "## 🌡️Ziegler-Nichols $PT_1T_T$ Modell Skizze S. 233\n",
    "\n",
    "- Für Sprungantwort\n",
    "\n",
    "### 🔹 Erforderliche Parameter\n",
    "\n",
    "- $T_t$ = Totzeit, bis begin des Anstiegs, Tangente ansetzen\n",
    "- $T$ = Zeitkonstante, bis 63% des Endwerts erreicht sind\n",
    "- $K_s$ = statische Verstärkung, Endwert des Sprungs\n",
    "- $0,63 \\cdot K_s$ = 63% des Endwerts\n",
    "- Achsen vertikal = $h(t)$, horizontal = $t$"
   ]
  },
  {
   "cell_type": "markdown",
   "id": "8c796e67",
   "metadata": {},
   "source": [
    "<hr style=\"border: none; border-top: 1px solid #f1c40f;\">\n"
   ]
  },
  {
   "cell_type": "markdown",
   "id": "f5402d4e",
   "metadata": {},
   "source": [
    "## 🌡️T-Summen Regel Skizze S. 235\n",
    "\n",
    "- Für S-förmige Antwort\n",
    "\n",
    "### 🔹 Erforderliche Parameter\n",
    "\n",
    "- $T_Summe$ = Zeit bis Wendepunkt\n",
    "- $k_s$ = statische Verstärkung, Endwert des Sprungs\n",
    "- $F1$ & $F2$ = Flächen über und unter der Kurve, diese müssen gleich groß sein\n",
    "- Achsen vertikal = $h(t)$, horizontal = $t$"
   ]
  },
  {
   "cell_type": "markdown",
   "id": "5506355b",
   "metadata": {},
   "source": [
    "<hr style=\"border: none; border-top: 5px solid #3498db;\">\n"
   ]
  },
  {
   "cell_type": "markdown",
   "id": "21602113",
   "metadata": {},
   "source": [
    "## 🌡️ Mit Frequenzkennlinienverfahren\n",
    "\n",
    "- Zusammenhang der Durchtrittsfrequenz $\\omega_c$ und der Anstiegszeit $T_r$:\n",
    "$$\\omega_c\\cdot T_r \\approx 1.5$$\n",
    "\n",
    "- Zusammenhang von prozentualem Überschwingen $Ü$ und Phasenreserve $\\Phi_R$ in\n",
    "Grad ist durch folgende Gleichung näherungsweise gegeben:\n",
    "$$\\Phi_R + U \\approx 70$$\n"
   ]
  },
  {
   "cell_type": "markdown",
   "id": "7bbe63fb",
   "metadata": {},
   "source": [
    "<hr style=\"border: none; border-top: 1px solid #f1c40f;\">\n"
   ]
  },
  {
   "cell_type": "markdown",
   "id": "720a1407",
   "metadata": {},
   "source": [
    "- Regelabweichung zu Integratorordnung:\n",
    "\n",
    "| $w(t)$ | $\\lambda = 0$ | $\\lambda = 1$ | $\\lambda = 2$ |\n",
    "|:---:|:---:|:---:|:---:|\n",
    "| $\\sigma(t)$ | $\\dfrac{1}{1 + k_s}$ | $0$ | $0$ |\n",
    "| $t$ | $\\infty$ | $\\dfrac{1}{k_s}$ | $0$ |\n",
    "| $t^2$ | $\\infty$ | $\\infty$ | $\\dfrac{1}{k_s}$ |\n"
   ]
  },
  {
   "cell_type": "markdown",
   "id": "953e3ffa",
   "metadata": {},
   "source": [
    "<hr style=\"border: none; border-top: 1px solid #f1c40f;\">\n"
   ]
  },
  {
   "cell_type": "markdown",
   "id": "fc03644c",
   "metadata": {},
   "source": [
    "PI-Regler FKL Beispiel4\n",
    "- Strecke:\n",
    "\n",
    " $$G(s) =\n",
    " \\frac{5}{1 +2·0.707s +s^2}$$\n",
    "- Entwurfsspezifikation\n",
    "    - $t_r =3s$, $U = 10\\%$, und einem $e_\\infty = 0$ für sprungförmige Führungsgrößen."
   ]
  }
 ],
 "metadata": {
  "language_info": {
   "name": "python"
  }
 },
 "nbformat": 4,
 "nbformat_minor": 5
}
