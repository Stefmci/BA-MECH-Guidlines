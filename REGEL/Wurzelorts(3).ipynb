{
 "cells": [
  {
   "cell_type": "markdown",
   "id": "e58adeb2",
   "metadata": {},
   "source": [
    "# 🧩 Wurzelortskurve (Beispiel 3)\n"
   ]
  },
  {
   "cell_type": "markdown",
   "id": "f8add12e",
   "metadata": {},
   "source": [
    "### 1️⃣ Charakteristische Polynom des Regelkreises aufstellen\n",
    "\n",
    "- Nullstellen finden\n",
    "- Anzahl der Nullstellen und Anzahl der Polstellen\n",
    "- Pol und Nullstellen in Imaginärer Zahlenebene einzeichnen\n",
    "\n",
    "### 2️⃣ Asynptoten bestimmen\n",
    "\n",
    "- Anzahl der Asymptoten = **Anzahl Polstellen** - **Anzahl Nullstellen**\n",
    "$$k = (n - m) -1$$\n",
    "- Schnittpunkt der Asymptoten mit der Realachse: $$ \\sigma_a = \\frac{\\sum \\text{Polstellen} - \\sum \\text{Nullstellen}}{\\text{n -m}} $$\n",
    "  - wenn Komplex dann nur Realteil nehmen\n",
    "\n",
    "- Winkel der Asymptoten:  $$ \\phi = \\frac{(2k + 1) \\cdot 180°}{\\text{n - m}} $$\n",
    "\n",
    "- wenn k = 2, dann für k = 0, 1, 2 einsetzen\n",
    "\n",
    "### 3️⃣ Break in / Break out Punkte bestimmen\n",
    "\n",
    "- Zähler des geschlossenen Regelkreises nehmen und auf $K_p$ umstellen\n",
    "- Break in Punkte: $$ \\frac{dK}{ds} = 0 $$\n",
    "- $s$ bestimmen\n",
    "- bei Bruch einfach den Zähler in 0 multiplieren (auf die 0 Seite!!)"
   ]
  },
  {
   "cell_type": "markdown",
   "id": "41659423",
   "metadata": {},
   "source": [
    "### 4️⃣ Besonderheiten\n",
    "\n",
    "- wenn Polstelle immer auf der reellen $+$ Seite liegt, dann nützt ein P-Regler nichts"
   ]
  },
  {
   "cell_type": "markdown",
   "id": "3a2c16a6",
   "metadata": {},
   "source": [
    "<hr style=\"border: none; border-top: 1px solid #f1c40f;\">\n"
   ]
  },
  {
   "cell_type": "markdown",
   "id": "c8de6384",
   "metadata": {},
   "source": [
    "# 🧩 Diagramm Zeichnen"
   ]
  },
  {
   "cell_type": "markdown",
   "id": "4c902831",
   "metadata": {},
   "source": [
    "\n",
    "\n",
    "### 1️⃣ Mini-Skizze (ASCII)\n",
    "\n",
    "```\n",
    "Im\n",
    "^\n",
    "|            |\n",
    "|            |   ROC-Äste gehen hier nach oben/unten\n",
    "|            |    (Asymptoten bei Re(s)=3)\n",
    "|            |\n",
    "+------------+-------------------------------> Re\n",
    "0            3            6\n",
    "\n",
    "x------------o-------------x\n",
    "^            ^             ^\n",
    "Pol          Breakaway     Pol\n",
    "s=0          s=3           s=6\n",
    "(ROC nur auf dem Segment 0..6)\n",
    "```\n",
    "\n",
    "\n",
    "### 2️⃣ Checkliste\n",
    "\n",
    "* Markiere × bei 0 und 6.\n",
    "* Zeichne den **einzigen reellen** ROC-Abschnitt: die **Strecke zwischen 0 und 6**.\n",
    "* Setze das **Breakaway** bei (s=3).\n",
    "* Zeichne zwei **senkrechte Asymptoten** durch (\\operatorname{Re}{s}=3) ((\\pm 90^\\circ)).\n",
    "* Lasse die Äste bei (s=3) nach **oben/unten** abbiegen.\n"
   ]
  },
  {
   "cell_type": "markdown",
   "id": "5a612dca",
   "metadata": {},
   "source": [
    "### 🧠 **Kurz-Checkliste beim Zeichnen (PD-Regler)**\n",
    "\n",
    "| Schritt | Was du machst      | Symbol / Linie                      |\n",
    "| ------- | ------------------ | ----------------------------------- |\n",
    "| 1       | Achsen zeichnen    | Re{s}, Im{s}                        |\n",
    "| 2       | Pole / Nullstellen | × bei 3, o bei −1                   |\n",
    "| 3       | Reellachs-Segment  | fette Linie zwischen −∞ und −1      |\n",
    "| 4       | Asymptoten         | keine (da n=m)                      |\n",
    "| 5       | Äste verbinden     | von 3 → −1                          |\n",
    "| 6       | Richtung           | Pfeil nach links (steigendes (K_p)) |\n",
    "| 7       | Stabilität         | ab (K_p > 3) stabil                 |"
   ]
  },
  {
   "cell_type": "markdown",
   "id": "529c07e8",
   "metadata": {},
   "source": [
    "<hr style=\"border: none; border-top: 5px solid #3498db;\">\n"
   ]
  },
  {
   "cell_type": "markdown",
   "id": "f1feb9a0",
   "metadata": {},
   "source": [
    "# 🧩 In welchen Bereich darf $K_p$ sein (also wo ist das System stabil)?\n",
    "\n",
    "- nur charakteristische Polynom betrachten, des geschlossenen Regelkreises\n",
    "- Polstellen müssen in der linken Halbebene liegen ( Hurwitz Polynom, eventuell bisschen umformen)"
   ]
  },
  {
   "cell_type": "markdown",
   "id": "9682012c",
   "metadata": {},
   "source": [
    "<hr style=\"border: none; border-top: 5px solid #3498db;\">\n"
   ]
  },
  {
   "cell_type": "markdown",
   "id": "06ceeb8d",
   "metadata": {},
   "source": [
    "# 🧩 Wie groß darf $K_p$ sein, damit das System nicht schwingt?\n",
    "\n",
    "- Pole müssen komplex konjugiert sein\n",
    "\n",
    "### Vorgehen\n",
    "\n",
    "- Charakteristisches Polynom des geschlossenen Regelkreises nehmen\n",
    "- auf $K_p$ umstellen\n",
    "- Break-in Punkte einsetzen und ausrechnen\n",
    "- Break-out Punkte einsetzen und ausrechnen"
   ]
  },
  {
   "cell_type": "markdown",
   "id": "c5aacbcb",
   "metadata": {},
   "source": [
    "<hr style=\"border: none; border-top: 5px solid #3498db;\">\n"
   ]
  },
  {
   "cell_type": "markdown",
   "id": "64ceebcb",
   "metadata": {},
   "source": [
    "# 🧩 Stabil mit $K_p = (K_p \\cdot (s+2))$\n",
    "\n",
    "- in offenen Regelkreis einsetzen und alles noch einmal durchrechnen\n"
   ]
  }
 ],
 "metadata": {
  "language_info": {
   "name": "python"
  }
 },
 "nbformat": 4,
 "nbformat_minor": 5
}
