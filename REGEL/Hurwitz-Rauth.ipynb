{
 "cells": [
  {
   "cell_type": "markdown",
   "id": "12074c05",
   "metadata": {},
   "source": [
    "\n",
    "Für ein **Polynom 5. Ordnung** gibt es also:\n",
    "[\n",
    "a_5 s^5 + a_4 s^4 + a_3 s^3 + a_2 s^2 + a_1 s + a_0\n",
    "]\n",
    "\n",
    "Man baut die Tabelle so:\n",
    "\n",
    "* **Erste Zeile** → alle **ungeraden Exponenten**: (a_5, a_3, a_1)\n",
    "* **Zweite Zeile** → alle **geraden Exponenten**: (a_4, a_2, a_0)\n",
    "\n",
    "Da das Polynom **5. Ordnung** ist, hat die **erste Zeile 3 Einträge** (weil: 5, 3 und 1 → drei ungerade Exponenten).\n",
    "\n",
    "💡 Bei einem **4.-Ordnung-Polynom** wären es dagegen nur **2 Einträge** in der ersten Zeile: (a_4, a_2).\n"
   ]
  },
  {
   "cell_type": "markdown",
   "id": "a11fd557",
   "metadata": {},
   "source": [
    "\n",
    "\n",
    "Kurz erklärt, wie du rechnest (am Beispiel 5. Ordnung):\n",
    "\n",
    "| Zeile | Einträge                                                                 |\n",
    "| :---- | :----------------------------------------------------------------------- |\n",
    "| $(s^5)$ | $(a_5, a_3, a_1)$                                                        |\n",
    "| $(s^4)$ | $(a_4, a_2, a_0)$                                                        |\n",
    "| $(s^3)$ | $(b_1=\\frac{a_4 a_3 - a_5 a_2}{a_4}, b_2=\\frac{a_4 a_1 - a_5 a_0}{a_4})$ |\n",
    "| $(s^2)$ | $(c_1=\\frac{b_1 a_2 - a_4 b_2}{b_1}, c_2=a_0)$                           |\n",
    "| $(s^1)$ | $(d_1=\\frac{c_1 b_2 - b_1 c_2}{c_1})$                                      |\n",
    "| $(s^0)$ | $(a_0)$                                                                    |\n",
    "\n",
    "🔹 Also:\n",
    "\n",
    "* Du **brauchst Werte aus mehreren Spalten** (nicht nur die erste).\n",
    "* Aber **am Ende prüfst du nur die Vorzeichen der ersten Spalte**:\n",
    "  [\n",
    "  a_5, a_4, b_1, c_1, d_1, a_0\n",
    "  ]\n",
    "  Alle positiv ⇒ System stabil.\n",
    "\n",
    "Willst du, dass ich dir das mal mit echten Zahlen einmal durchrechne, damit du siehst, welche Spalten man wann nutzt?\n"
   ]
  },
  {
   "cell_type": "markdown",
   "id": "0ec877ab",
   "metadata": {},
   "source": [
    "**Fall 4. Ordnung**\n",
    "\n",
    "[\n",
    "a_4 s^4 + a_3 s^3 + a_2 s^2 + a_1 s + a_0 = 0\n",
    "]\n",
    "\n",
    "Das **Routh-Hurwitz-Schema** sieht so aus:\n",
    "\n",
    "| Zeile | Einträge                                                                                                          |\n",
    "| :---- | :---------------------------------------------------------------------------------------------------------------- |\n",
    "| $(s^4)$ | $(a_4, a_2, a_0)$                                                                                                 |\n",
    "| $(s^3)$ | $(a_3, a_1, 0)$                                                                                                   |\n",
    "| $(s^2)$ | $(b_1=\\frac{a_3 a_2 - a_4 a_1}{a_3}, b_2=\\frac{a_3 a_0 - a_4\\cdot0}{a_3}= \\frac{a_3 a_0}{a_3}=a_0)$ |\n",
    "| $(s^1)$ | $(c_1=\\frac{b_1 a_1 - a_3 b_2}{b_1})$                                                                 |\n",
    "| $(s^0)$ | $(a_0)$                                                                                                             |\n",
    "\n",
    "👉 **Erklärung:**\n",
    "\n",
    "* Erste Zeile = gerade Exponenten (4, 2, 0) → drei Einträge\n",
    "* Zweite Zeile = ungerade Exponenten (3, 1) → zwei Einträge (+ 0 zum Auffüllen)\n",
    "* Danach nutzt man immer Werte **aus den beiden vorherigen Zeilen**, also nicht nur aus der ersten Spalte.\n",
    "* **Stabilitätskriterium:** Alle Einträge der **ersten Spalte** (a_4, a_3, b_1, c_1, a_0) > 0."
   ]
  }
 ],
 "metadata": {
  "language_info": {
   "name": "python"
  }
 },
 "nbformat": 4,
 "nbformat_minor": 5
}
